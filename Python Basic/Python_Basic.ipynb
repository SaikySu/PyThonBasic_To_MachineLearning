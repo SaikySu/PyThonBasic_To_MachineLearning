{
 "cells": [
  {
   "cell_type": "markdown",
   "metadata": {},
   "source": [
    "# Python Cơ bản"
   ]
  },
  {
   "cell_type": "markdown",
   "metadata": {},
   "source": [
    "### Cách cài đặt thư viện:\n",
    "Đối với ngôn ngữ Python, chúng ta sẽ cài những thư viện bằng cách sử dụng lệnh **pip**, ví dụ:\n",
    "```Bash\n",
    "pip install numpy\n",
    "```\n",
    "Tuỳ theo những lỗi khi thiếu thư viện xảy ra trong quá trình chạy, các bạn có thể cài đặt thêm\n"
   ]
  },
  {
   "cell_type": "markdown",
   "metadata": {},
   "source": [
    "## Các bài tập nhẹ nhàng\n"
   ]
  },
  {
   "cell_type": "markdown",
   "metadata": {},
   "source": [
    "### Siêu nhẹ nhàng"
   ]
  },
  {
   "cell_type": "code",
   "execution_count": null,
   "metadata": {},
   "outputs": [],
   "source": [
    "# 1. Nhập và in tên người dùng\n",
    "'''Code Here'''"
   ]
  },
  {
   "cell_type": "code",
   "execution_count": null,
   "metadata": {},
   "outputs": [],
   "source": [
    "# 2. Tính tổng hai số\n",
    "'''Code Here'''"
   ]
  },
  {
   "cell_type": "code",
   "execution_count": null,
   "metadata": {},
   "outputs": [],
   "source": [
    "# 3. Tính chu vi Hình Chữ Nhật\n",
    "'''Code Here'''"
   ]
  },
  {
   "cell_type": "code",
   "execution_count": null,
   "metadata": {},
   "outputs": [],
   "source": [
    "# 4. Tính Diện tích Tam Giác\n",
    "'''Code Here'''"
   ]
  },
  {
   "cell_type": "code",
   "execution_count": null,
   "metadata": {},
   "outputs": [],
   "source": [
    "# 5. Tính 2 mũ 5\n",
    "'''Code Here'''"
   ]
  },
  {
   "cell_type": "markdown",
   "metadata": {},
   "source": [
    "### Nhẹ nhàng"
   ]
  },
  {
   "cell_type": "code",
   "execution_count": null,
   "metadata": {},
   "outputs": [],
   "source": [
    "# 6. Kiểm tra số chẵn lẻ\n",
    "'''Code Here'''"
   ]
  },
  {
   "cell_type": "code",
   "execution_count": null,
   "metadata": {},
   "outputs": [],
   "source": [
    "# 7. Xếp loại học sinh (Giỏi, khá, TB, yếu)\n",
    "'''Code Here'''"
   ]
  },
  {
   "cell_type": "code",
   "execution_count": null,
   "metadata": {},
   "outputs": [],
   "source": [
    "# 8. Tính phương trình bậc 2\n",
    "'''Code Here'''"
   ]
  },
  {
   "cell_type": "code",
   "execution_count": null,
   "metadata": {},
   "outputs": [],
   "source": [
    "# 9. Đổi độ C sang độ F\n",
    "'''Code Here'''"
   ]
  },
  {
   "cell_type": "code",
   "execution_count": null,
   "metadata": {},
   "outputs": [],
   "source": [
    "# 10. Kiểm tra V trong kí tự \"VanLang\" và trả về True False\n",
    "'''Code Here'''"
   ]
  },
  {
   "cell_type": "markdown",
   "metadata": {},
   "source": [
    "### Nhập môn vui vẻ"
   ]
  },
  {
   "cell_type": "code",
   "execution_count": null,
   "metadata": {},
   "outputs": [],
   "source": [
    "# 11. In số từ 1 đến n"
   ]
  },
  {
   "cell_type": "code",
   "execution_count": null,
   "metadata": {},
   "outputs": [],
   "source": [
    "# 12. Tính tổng các số từ 1 đến n"
   ]
  },
  {
   "cell_type": "code",
   "execution_count": null,
   "metadata": {},
   "outputs": [],
   "source": [
    "# Cho trước 3 số nguyên x, y, z được từ bàn phím. Viết chương trình hiển thị ra màn hình theo yêu cầu sau:\n",
    "'''Nếu x là số chẵn, kiểm tra xem y có lớn hơn hoặc bằng 20 hay không. \n",
    "Nếu y >= 20, in ra dòng chữ y is greater than or equal to 20; ngược lại, in ra dòng chữ y is less than 20.\n",
    "Nếu x là số lẻ, kiểm tra xem z có lớn hơn hoặc bằng 30 hay không. \n",
    "Nếu z >= 30, in ra dòng chữ z is greater than or equal to 30; ngược lại, in ra dòng chữ z is less than 30.'''"
   ]
  },
  {
   "cell_type": "code",
   "execution_count": null,
   "metadata": {},
   "outputs": [],
   "source": []
  }
 ],
 "metadata": {
  "kernelspec": {
   "display_name": "Python 3",
   "language": "python",
   "name": "python3"
  },
  "language_info": {
   "codemirror_mode": {
    "name": "ipython",
    "version": 3
   },
   "file_extension": ".py",
   "mimetype": "text/x-python",
   "name": "python",
   "nbconvert_exporter": "python",
   "pygments_lexer": "ipython3",
   "version": "3.12.4"
  }
 },
 "nbformat": 4,
 "nbformat_minor": 2
}
