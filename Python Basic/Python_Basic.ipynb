{
 "cells": [
  {
   "cell_type": "markdown",
   "metadata": {},
   "source": [
    "# Python Cơ bản"
   ]
  },
  {
   "cell_type": "markdown",
   "metadata": {},
   "source": [
    "### Cách cài đặt thư viện:\n",
    "Đối với ngôn ngữ Python, chúng ta sẽ cài những thư viện bằng cách sử dụng lệnh **pip**, ví dụ:\n",
    "```Bash\n",
    "pip install numpy\n",
    "```\n",
    "Tuỳ theo những lỗi khi thiếu thư viện xảy ra trong quá trình chạy, các bạn có thể cài đặt thêm\n"
   ]
  },
  {
   "cell_type": "markdown",
   "metadata": {},
   "source": [
    "## 2. Giới thiệu về Python cơ bản\n"
   ]
  },
  {
   "cell_type": "markdown",
   "metadata": {},
   "source": [
    "### 2.1 Biến và kiểu dữ liệu của biến\n",
    "Khái niệm biến trong lập trình cũng giống khái niệm biến trong toán học, biến được sử dụng để lưu trữ dữ liệu trong chương trình. Dữ liệu được lưu trữ trong một biến có thể thay đổi trong khi chạy chương trình. \n",
    "\n",
    "Trong Python, bạn không cần khai báo biến một cách tường minh trước khi sử dụng cũng như khai báo kiểu dữ liệu của chúng. Biến được tạo ra khi ta bắt đầu gán giá trị cho nó. Nhìn ví dụ dưới đây:"
   ]
  },
  {
   "cell_type": "code",
   "execution_count": 1,
   "metadata": {},
   "outputs": [
    {
     "name": "stdout",
     "output_type": "stream",
     "text": [
      "a + b = 12\n"
     ]
    }
   ],
   "source": [
    "# Khai báo biến a và gán giá trị cho a = 5\n",
    "a = 5\n",
    "# Khai báo biến b và gán giá trị cho b = 7\n",
    "b = 7\n",
    "print(\"a + b =\",a + b)"
   ]
  },
  {
   "cell_type": "markdown",
   "metadata": {},
   "source": [
    "\n",
    "Trong Python cũng như các ngôn ngữ lập trình khác, một biến luôn có kiểu dữ liệu. Một số kiểu dữ liệu cơ bản trong Python:\n",
    "\n",
    "- Int: đây là kiểu dữ liệu được dùng để lưu trữ các số nguyên (1, 2, 3, 4, ...). \n",
    "- Float: đây là kiểu dữ liệu dùng để lưu trữ các biến kiểu số thực (1.43, 5.34, 3.333, ...). \n",
    "- Bool: đây là kiểu dữ liệu dùng để lưu trữ các giá trị luận lý (True hoặc False). \n",
    "- String: đây là kiểu dữ liệu dùng để lưu trữ các xâu ký tự (\"Viet Nam\", \"Van Lang\", ...). \n",
    "Ngoài ra trong Python còn một số kiểu dữ liệu khác như list, set, dict, tuple, complex nhưng bạn chưa cần quan tâm tới các kiêu dữ liệu này vội. Các kiểu dữ liệu này bạn sẽ được học trong các chương tiếp theo. \n",
    "\n",
    "Để kiểm tra kiểu dữ liệu của biến, bạn có thể sử dụng hàm type(). Ví dụ: "
   ]
  },
  {
   "cell_type": "code",
   "execution_count": 7,
   "metadata": {},
   "outputs": [
    {
     "name": "stdout",
     "output_type": "stream",
     "text": [
      "<class 'str'>\n",
      "<class 'int'>\n",
      "<class 'float'>\n"
     ]
    }
   ],
   "source": [
    "name = \"VLU\"\n",
    "date_of_birth = 2\n",
    "pi = 3.14\n",
    "\n",
    "print(type(name))\n",
    "print(type(date_of_birth))\n",
    "print(type(pi))"
   ]
  },
  {
   "cell_type": "markdown",
   "metadata": {},
   "source": [
    "- BT1: Tạo ra 6 biến và kiểm tra kiểu dữ liệu của chúng"
   ]
  },
  {
   "cell_type": "code",
   "execution_count": null,
   "metadata": {},
   "outputs": [],
   "source": [
    "# Code Here\n",
    "\n",
    "\n"
   ]
  },
  {
   "cell_type": "markdown",
   "metadata": {},
   "source": [
    "### 2.2 Nối chuỗi và nối số\n",
    "\n",
    "Bạn chỉ có thể nối 2 chuỗi với nhau chứ không thể nối một chuỗi với 1 số. Ví dụ chương trình sau sẽ báo lỗi: "
   ]
  },
  {
   "cell_type": "code",
   "execution_count": 4,
   "metadata": {},
   "outputs": [
    {
     "ename": "TypeError",
     "evalue": "can only concatenate str (not \"int\") to str",
     "output_type": "error",
     "traceback": [
      "\u001b[1;31m---------------------------------------------------------------------------\u001b[0m",
      "\u001b[1;31mTypeError\u001b[0m                                 Traceback (most recent call last)",
      "Cell \u001b[1;32mIn[4], line 2\u001b[0m\n\u001b[0;32m      1\u001b[0m age \u001b[38;5;241m=\u001b[39m \u001b[38;5;241m19\u001b[39m\n\u001b[1;32m----> 2\u001b[0m \u001b[38;5;28mprint\u001b[39m(\u001b[38;5;124;43m\"\u001b[39;49m\u001b[38;5;124;43mAge: \u001b[39;49m\u001b[38;5;124;43m\"\u001b[39;49m\u001b[43m \u001b[49m\u001b[38;5;241;43m+\u001b[39;49m\u001b[43m \u001b[49m\u001b[43mage\u001b[49m)\n",
      "\u001b[1;31mTypeError\u001b[0m: can only concatenate str (not \"int\") to str"
     ]
    }
   ],
   "source": [
    "age = 19\n",
    "print(\"Age: \" + age)"
   ]
  },
  {
   "cell_type": "markdown",
   "metadata": {},
   "source": [
    "Như các bạn có thể thấy, đđể nối được một chuỗi và một số bạn cần phải đưa được số này về dạng chuỗi và thuật ngữ này được gọi là ép kiểu dữ liệu. Trong ngôn ngữ lập trình Python bạn có thể dùng hàm str() để làm việc này"
   ]
  },
  {
   "cell_type": "code",
   "execution_count": 5,
   "metadata": {},
   "outputs": [
    {
     "name": "stdout",
     "output_type": "stream",
     "text": [
      "<class 'str'>\n"
     ]
    }
   ],
   "source": [
    "print(type(str(19)))"
   ]
  },
  {
   "cell_type": "markdown",
   "metadata": {},
   "source": [
    "Ví dụ tiếp về chuyển từ một chuỗi sang một số: "
   ]
  },
  {
   "cell_type": "code",
   "execution_count": 6,
   "metadata": {},
   "outputs": [
    {
     "name": "stdout",
     "output_type": "stream",
     "text": [
      "Age: 19\n"
     ]
    }
   ],
   "source": [
    "age = 19\n",
    "print(\"Age: \" + str(age))"
   ]
  },
  {
   "cell_type": "markdown",
   "metadata": {},
   "source": [
    "- BT2: Bạn hãy viết chương trình tạo ra biến name = \"VLU\", date_of_birth = 1995 và hiển thị kết quả như minh họa:"
   ]
  },
  {
   "cell_type": "code",
   "execution_count": 8,
   "metadata": {},
   "outputs": [
    {
     "name": "stdout",
     "output_type": "stream",
     "text": [
      "Name: VLU\n",
      "Date of birth: 1995\n"
     ]
    }
   ],
   "source": [
    "name = \"VLU\"\n",
    "date_of_birth = 1995\n",
    "print() # Code Here\n",
    "print() # Code Here"
   ]
  },
  {
   "cell_type": "markdown",
   "metadata": {},
   "source": [
    "- BT3: Cho trước biến length = 7.8 và biến width = 3.5, đây là 2 biến chỉ chiều dài và chiều rộng của hình chữ nhật. Bạn hãy viết chương trình hiển thị ra màn hình diện tích và chu vi của hình chữ nhật như ví dụ minh họa. "
   ]
  },
  {
   "cell_type": "code",
   "execution_count": 9,
   "metadata": {},
   "outputs": [
    {
     "name": "stdout",
     "output_type": "stream",
     "text": [
      "Area: 27.3\n",
      "Perimeter: 22.6\n"
     ]
    }
   ],
   "source": [
    "length = 7.8\n",
    "width = 3.5\n",
    "print() # Code Here\n",
    "print() # Code Here"
   ]
  },
  {
   "cell_type": "markdown",
   "metadata": {},
   "source": [
    "### 2.3 Input tại Python\n",
    "\n",
    "Để nhập dữ liệu cho biến từ bàn phím rất đơn giản, bạn sử dụng hàm input() giống như sau: "
   ]
  },
  {
   "cell_type": "code",
   "execution_count": 10,
   "metadata": {},
   "outputs": [
    {
     "name": "stdout",
     "output_type": "stream",
     "text": [
      "Hello Dai\n"
     ]
    }
   ],
   "source": [
    "# Nhập dữ liệu cho biến name từ bàn phím\n",
    "name = input()\n",
    "print(\"Hello \" + name)"
   ]
  },
  {
   "cell_type": "markdown",
   "metadata": {},
   "source": [
    "Bạn cần lưu ý rằng khi nhập dữ liệu cho một biến từ bàn phím thì kiểu dữ liệu của biến đó luôn là str (kể cả bạn có nhập giá trị số cho biến đó). Ví dụ: "
   ]
  },
  {
   "cell_type": "code",
   "execution_count": 12,
   "metadata": {},
   "outputs": [
    {
     "name": "stdout",
     "output_type": "stream",
     "text": [
      "<class 'str'>\n"
     ]
    }
   ],
   "source": [
    "age = input()\n",
    "print(type(age)) # Ở đây mình đã nhập là 20"
   ]
  },
  {
   "cell_type": "markdown",
   "metadata": {},
   "source": [
    "- BT4: Viết chương trình nhập vào tên của mình từ bàn phím và thực hiện hiển thị ra màn hình:  "
   ]
  },
  {
   "cell_type": "code",
   "execution_count": 13,
   "metadata": {},
   "outputs": [
    {
     "name": "stdout",
     "output_type": "stream",
     "text": [
      "Hello Dai\n"
     ]
    }
   ],
   "source": [
    "name = input()\n",
    "print() #Code Here"
   ]
  },
  {
   "cell_type": "markdown",
   "metadata": {},
   "source": [
    "Trong Python, dữ liệu nhập từ bàn phím luôn có kiểu là str (hàm input() trả về kiểu str), mà biến kiểu str thì không thể tính toán được. Do đó bạn cần chuyển kiểu dữ liệu của biến age về kiểu int, để làm việc này bạn cần sử dụng hàm int(). Ví dụ chương trình sau:"
   ]
  },
  {
   "cell_type": "code",
   "execution_count": 14,
   "metadata": {},
   "outputs": [
    {
     "name": "stdout",
     "output_type": "stream",
     "text": [
      "22\n",
      "<class 'int'>\n"
     ]
    }
   ],
   "source": [
    "age = int(input())\n",
    "age = age + 10\n",
    "print(age)\n",
    "print(type(age))"
   ]
  },
  {
   "cell_type": "markdown",
   "metadata": {},
   "source": [
    "Có thể thấy bạn đã chuyển được chuỗi \"23\" về số 23."
   ]
  },
  {
   "cell_type": "markdown",
   "metadata": {},
   "source": [
    "- BT5: viết chương trình nhập vào từ bàn phím tên, tuổi của một người. Sau đó hiển thị như ví dụ: "
   ]
  },
  {
   "cell_type": "code",
   "execution_count": 17,
   "metadata": {},
   "outputs": [
    {
     "name": "stdout",
     "output_type": "stream",
     "text": [
      "In 15 years, age of Dai will be 37\n",
      "In 15 years, age of Dai will be 37\n"
     ]
    }
   ],
   "source": [
    "name = input()\n",
    "age = int(input())\n",
    "print(\"In 15 years, age of \" + name + \" will be \"+ str(age + 15))\n",
    "\n",
    "print(f\"In 15 years, age of {name} will be {age + 15}\")"
   ]
  },
  {
   "cell_type": "markdown",
   "metadata": {},
   "source": [
    "### Bài tập tổng kết"
   ]
  },
  {
   "cell_type": "code",
   "execution_count": null,
   "metadata": {},
   "outputs": [],
   "source": [
    "# 1. Nhập và in tên người dùng \n",
    "# Code Here"
   ]
  },
  {
   "cell_type": "code",
   "execution_count": null,
   "metadata": {},
   "outputs": [],
   "source": [
    "# 2. Tính tổng hai số\n",
    "# Code Here"
   ]
  },
  {
   "cell_type": "code",
   "execution_count": null,
   "metadata": {},
   "outputs": [],
   "source": [
    "# 3. Tính chu vi Hình Chữ \n",
    "# Code Here"
   ]
  },
  {
   "cell_type": "code",
   "execution_count": null,
   "metadata": {},
   "outputs": [],
   "source": [
    "# 4. Tính Diện tích Tam Giác\n",
    "# Code Here"
   ]
  },
  {
   "cell_type": "code",
   "execution_count": null,
   "metadata": {},
   "outputs": [],
   "source": [
    "# 5. Tính 2 mũ 5\n",
    "# Code Here"
   ]
  },
  {
   "cell_type": "markdown",
   "metadata": {},
   "source": [
    "### Nhẹ nhàng"
   ]
  },
  {
   "cell_type": "code",
   "execution_count": null,
   "metadata": {},
   "outputs": [],
   "source": [
    "# 6. Kiểm tra số chẵn lẻ"
   ]
  },
  {
   "cell_type": "code",
   "execution_count": null,
   "metadata": {},
   "outputs": [],
   "source": [
    "# 7. Xếp loại học sinh (Giỏi, khá, TB, yếu)"
   ]
  },
  {
   "cell_type": "code",
   "execution_count": null,
   "metadata": {},
   "outputs": [],
   "source": [
    "# 8. Tính phương trình bậc 2"
   ]
  },
  {
   "cell_type": "code",
   "execution_count": null,
   "metadata": {},
   "outputs": [],
   "source": [
    "# 9. Đổi độ C sang độ F"
   ]
  },
  {
   "cell_type": "code",
   "execution_count": null,
   "metadata": {},
   "outputs": [],
   "source": [
    "# 10. Kiểm tra V trong kí tự \"VanLang\" và trả về True False"
   ]
  },
  {
   "cell_type": "markdown",
   "metadata": {},
   "source": [
    "### Vòng lặp và tương tác với List"
   ]
  },
  {
   "cell_type": "code",
   "execution_count": null,
   "metadata": {},
   "outputs": [],
   "source": [
    "# 11. In số từ 1 đến n"
   ]
  },
  {
   "cell_type": "code",
   "execution_count": null,
   "metadata": {},
   "outputs": [],
   "source": [
    "# 12. Tính tổng các số từ 1 đến n"
   ]
  },
  {
   "cell_type": "code",
   "execution_count": null,
   "metadata": {},
   "outputs": [],
   "source": [
    "# 13. Cho trước 3 số nguyên x, y, z được từ bàn phím. Viết chương trình hiển thị ra màn hình theo yêu cầu sau:\n",
    "'''Nếu x là số chẵn, kiểm tra xem y có lớn hơn hoặc bằng 20 hay không. \n",
    "Nếu y >= 20, in ra dòng chữ y is greater than or equal to 20; ngược lại, in ra dòng chữ y is less than 20.\n",
    "Nếu x là số lẻ, kiểm tra xem z có lớn hơn hoặc bằng 30 hay không. \n",
    "Nếu z >= 30, in ra dòng chữ z is greater than or equal to 30; ngược lại, in ra dòng chữ z is less than 30.'''"
   ]
  },
  {
   "cell_type": "code",
   "execution_count": null,
   "metadata": {},
   "outputs": [],
   "source": [
    "# 14. Tạo và thao tác với list: thêm, xóa list có sẵn"
   ]
  },
  {
   "cell_type": "code",
   "execution_count": null,
   "metadata": {},
   "outputs": [],
   "source": [
    "# 15. Tìm số lớn nhất và nhỏ nhất trong list"
   ]
  },
  {
   "cell_type": "markdown",
   "metadata": {},
   "source": [
    "### Tính toán theo hàm"
   ]
  },
  {
   "cell_type": "code",
   "execution_count": null,
   "metadata": {},
   "outputs": [],
   "source": [
    "# 16. Viết hàm tính giai thừa"
   ]
  },
  {
   "cell_type": "code",
   "execution_count": null,
   "metadata": {},
   "outputs": [],
   "source": [
    "# 17. Viết hàm kiểm tra số nguyên tố"
   ]
  },
  {
   "cell_type": "code",
   "execution_count": null,
   "metadata": {},
   "outputs": [],
   "source": [
    "# 18. Viết hàm kiểm tra số chính phương"
   ]
  },
  {
   "cell_type": "code",
   "execution_count": null,
   "metadata": {},
   "outputs": [],
   "source": [
    "# 19. Viết hàm tính phương trình bậc 3"
   ]
  },
  {
   "cell_type": "code",
   "execution_count": null,
   "metadata": {},
   "outputs": [],
   "source": [
    "# 20. Viết hàm tính định lý Pytago"
   ]
  },
  {
   "cell_type": "markdown",
   "metadata": {},
   "source": [
    "### Xử lý chuỗi - đọc ghi file"
   ]
  },
  {
   "cell_type": "code",
   "execution_count": null,
   "metadata": {},
   "outputs": [],
   "source": [
    "# 21. Đếm số lượng từ xuất hiện trong câu"
   ]
  },
  {
   "cell_type": "code",
   "execution_count": null,
   "metadata": {},
   "outputs": [],
   "source": [
    "# 22. Đảo ngược chuỗi đã cho"
   ]
  },
  {
   "cell_type": "code",
   "execution_count": null,
   "metadata": {},
   "outputs": [],
   "source": [
    "# 23. Ghi và đọc file văn bản"
   ]
  },
  {
   "cell_type": "code",
   "execution_count": null,
   "metadata": {},
   "outputs": [],
   "source": [
    "# 24. Ghi và đọc file văn bản nhưng dùng thêm Try - Except"
   ]
  },
  {
   "cell_type": "code",
   "execution_count": null,
   "metadata": {},
   "outputs": [],
   "source": [
    "# 25. Đọc file và đếm số từ"
   ]
  }
 ],
 "metadata": {
  "kernelspec": {
   "display_name": "Python 3",
   "language": "python",
   "name": "python3"
  },
  "language_info": {
   "codemirror_mode": {
    "name": "ipython",
    "version": 3
   },
   "file_extension": ".py",
   "mimetype": "text/x-python",
   "name": "python",
   "nbconvert_exporter": "python",
   "pygments_lexer": "ipython3",
   "version": "3.12.4"
  }
 },
 "nbformat": 4,
 "nbformat_minor": 2
}
