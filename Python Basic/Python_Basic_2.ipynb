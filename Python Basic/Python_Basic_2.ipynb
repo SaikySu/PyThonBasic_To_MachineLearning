{
 "cells": [
  {
   "cell_type": "markdown",
   "metadata": {},
   "source": [
    "# Python Cơ bản"
   ]
  },
  {
   "cell_type": "markdown",
   "metadata": {},
   "source": [
    "### Cách cài đặt thư viện:\n",
    "Đối với ngôn ngữ Python, chúng ta sẽ cài những thư viện bằng cách sử dụng lệnh **pip**, ví dụ:\n",
    "```Bash\n",
    "pip install numpy\n",
    "```\n",
    "Tuỳ theo những lỗi khi thiếu thư viện xảy ra trong quá trình chạy, các bạn có thể cài đặt thêm\n"
   ]
  },
  {
   "cell_type": "markdown",
   "metadata": {},
   "source": [
    "## 2. Giới thiệu về Python cơ bản\n"
   ]
  },
  {
   "cell_type": "markdown",
   "metadata": {},
   "source": [
    "### 2.4 Vòng lặplặp\n",
    "Mệnh đề if-else được dùng để kiểm tra một điều kiện có đúng hay không, nếu đúng thì khối lệnh bên trong if sẽ được thực thi, ngược lại nếu điều kiện là sai thì khối lệnh bên trong else sẽ được thực thi\n",
    "```python\n",
    "if condition:\n",
    "    # Nếu condition đúng thì khối lệnh này sẽ được thực thi\n",
    "else:\n",
    "    # Nếu condition sai thì khối lệnh này sẽ được thực thi\n",
    "```\n",
    "Lưu ý: khối lệnh trong if và else chính là các đoạn code được thụt lề vào trong (ở các ngôn ngữ lập trình khác thì khối lệnh được xác định bằng cặp dấu {} nhưng đối với Python thì khối lệnh được xác định bằng việc thụt lề)."
   ]
  },
  {
   "cell_type": "markdown",
   "metadata": {},
   "source": [
    "Ví dụ về chương trình sử dụng mệnh đề if-else để kiểm tra tính chẵn lẻ của một số được nhập từ bàn phím:"
   ]
  },
  {
   "cell_type": "code",
   "execution_count": 1,
   "metadata": {},
   "outputs": [
    {
     "name": "stdout",
     "output_type": "stream",
     "text": [
      "n is an even number\n"
     ]
    }
   ],
   "source": [
    "n = int(input())\n",
    "if n % 2 == 0:\n",
    "    # Nếu n là số chẵn thì hiển thị ra màn hình n is an even number\n",
    "    print(\"n is an even number\")\n",
    "else:\n",
    "    # Ngược lại, nếu n không là số chẵn thì hiển thị ra màn hình n is an odd number\n",
    "    print(\"n is an odd number\")"
   ]
  },
  {
   "cell_type": "markdown",
   "metadata": {},
   "source": [
    "Chương trình trên cũng có thể tách thành 2 mệnh đề if giống như sau:"
   ]
  },
  {
   "cell_type": "code",
   "execution_count": 2,
   "metadata": {},
   "outputs": [
    {
     "name": "stdout",
     "output_type": "stream",
     "text": [
      "n is an even number\n"
     ]
    }
   ],
   "source": [
    "n = int(input())\n",
    "if n % 2 == 0:\n",
    "    # Nếu n là số chẵn thì hiển thị ra màn hình n is an even number\n",
    "    print(\"n is an even number\")\n",
    "if n % 2 != 0:\n",
    "    # Nếu n là số lẻ thì hiển thị ra màn hình n is an odd number\n",
    "    print(\"n is an odd number\")"
   ]
  },
  {
   "cell_type": "markdown",
   "metadata": {},
   "source": [
    "### 2.4: Toán tử 3 ngôi trong Python"
   ]
  },
  {
   "cell_type": "markdown",
   "metadata": {},
   "source": [
    "Toán tử ba ngôi cũng được dùng để kiểm tra các điều kiện giống như mệnh đề if-else nhưng nó đơn giản hơn ở chỗ có thể viết gọn thành một dòng. Toán tử 3 ngồi có thể thay thế cho mệnh đề if-else khi cần kiểm tra các điều kiện đơn giản."
   ]
  },
  {
   "cell_type": "markdown",
   "metadata": {},
   "source": [
    "Ví dụ về chương trình so sánh giá trị 2 số sử dụng toán tử 3 ngồi:"
   ]
  },
  {
   "cell_type": "code",
   "execution_count": 3,
   "metadata": {},
   "outputs": [
    {
     "name": "stdout",
     "output_type": "stream",
     "text": [
      "b is greater than a\n"
     ]
    }
   ],
   "source": [
    "# Python program to demonstrate nested ternary operator \n",
    "a, b = 10, 20\n",
    "print (\"Both a and b are equal\" if a == b else \"a is greater than b\"\n",
    "\t\tif a > b else \"b is greater than a\") "
   ]
  },
  {
   "cell_type": "markdown",
   "metadata": {},
   "source": [
    "Nếu sử dụng mệnh đề if-else để so sánh giá trị 2 số thì sẽ như sau:"
   ]
  },
  {
   "cell_type": "code",
   "execution_count": 4,
   "metadata": {},
   "outputs": [
    {
     "name": "stdout",
     "output_type": "stream",
     "text": [
      "b is greater than a\n"
     ]
    }
   ],
   "source": [
    "a, b = 10, 20\n",
    "\n",
    "if a != b:\n",
    "\tif a > b:\n",
    "\t\tprint(\"a is greater than b\")\n",
    "\telse:\n",
    "\t\tprint(\"b is greater than a\")\n",
    "else:\n",
    "\tprint(\"Both a and b are equal\")"
   ]
  },
  {
   "cell_type": "markdown",
   "metadata": {},
   "source": [
    "Đọc tới đây bạn đã biết cách sử dụng mệnh đề if-else và toán tử 3 ngôi, hãy thử làm bài tập này bằng 2 cách:\n",
    "\n",
    "Đề bài 1: Cho số nguyên age chỉ tuổi của một con mèo được nhập vào từ bàn phím. Bạn hãy viết chương trình để kiểm tra xem con mèo của bạn là già hay còn trẻ. Nếu tuổi của con mèo dưới 5 (age <5), thì hiển thị ra màn hình dòng chữ Your cat is young, ngược lại nếu tuổi của con mèo lớn hơn hoặc bằng 5 tuổi thì hiển thị ra Your cat is old.\n",
    " - Ví dụ nếu bạn nhập age = 3 thì màn hính sẽ hiển thị ra:\n",
    "```\n",
    "    Your cat is young\n",
    "```\n",
    "- Nếu bạn nhập age = 5 thì màn hình sẽ hiển thị ra:\n",
    "\n",
    "```\n",
    "    Your cat is old\n",
    "```\n"
   ]
  },
  {
   "cell_type": "code",
   "execution_count": null,
   "metadata": {},
   "outputs": [],
   "source": [
    "#Code here"
   ]
  },
  {
   "cell_type": "markdown",
   "metadata": {},
   "source": [
    "Đề bài 2: Cho số nguyên temperature chỉ nhiệt độ được nhập từ bàn phím, bạn hãy viết chương trình in ra màn hình theo các yêu cầu như sau:\n",
    "\n",
    "Nếu temperature >= 100, in ra dòng chữ \n",
    "```\n",
    "    Stay at home and enjoy a good movie\n",
    "```\n",
    "Nếu temperature >= 92, in ra dòng chữ\n",
    "```\n",
    "    Stay at home\n",
    "```\n",
    "Nếu temperature = 75, in ra dòng chữ \n",
    "```\n",
    "    Go outside and enjoy the weather\n",
    "```\n",
    "Nếu temperature < 0, in ra dòng chữ \n",
    "```\n",
    "    It's cool outside\n",
    "```\n",
    "Ngoài các ràng buộc như trên thì hiển thị Let's go to school."
   ]
  },
  {
   "cell_type": "markdown",
   "metadata": {},
   "source": [
    "Ví dụ: \n",
    "- Nếu temperature = 130 thì hiển thị Stay at home and enjoy a good movie\n",
    "- Nếu temperature = 93 thì hiển thị Stay at home\n",
    "- Nếu temperature = 75 thì hiển thị Go outside and enjoy the weather\n",
    "- Nếu temperature = -10 thì hiển thị It's cool outside\n",
    "- Nếu temperature = 20 thì hiển thị Let's go to school"
   ]
  },
  {
   "cell_type": "code",
   "execution_count": null,
   "metadata": {},
   "outputs": [],
   "source": [
    "#Code HereHere"
   ]
  },
  {
   "cell_type": "markdown",
   "metadata": {},
   "source": [
    "### 2.2 Nối chuỗi và nối số\n",
    "\n",
    "Bạn chỉ có thể nối 2 chuỗi với nhau chứ không thể nối một chuỗi với 1 số. Ví dụ chương trình sau sẽ báo lỗi: "
   ]
  },
  {
   "cell_type": "code",
   "execution_count": 4,
   "metadata": {},
   "outputs": [
    {
     "ename": "TypeError",
     "evalue": "can only concatenate str (not \"int\") to str",
     "output_type": "error",
     "traceback": [
      "\u001b[1;31m---------------------------------------------------------------------------\u001b[0m",
      "\u001b[1;31mTypeError\u001b[0m                                 Traceback (most recent call last)",
      "Cell \u001b[1;32mIn[4], line 2\u001b[0m\n\u001b[0;32m      1\u001b[0m age \u001b[38;5;241m=\u001b[39m \u001b[38;5;241m19\u001b[39m\n\u001b[1;32m----> 2\u001b[0m \u001b[38;5;28mprint\u001b[39m(\u001b[38;5;124;43m\"\u001b[39;49m\u001b[38;5;124;43mAge: \u001b[39;49m\u001b[38;5;124;43m\"\u001b[39;49m\u001b[43m \u001b[49m\u001b[38;5;241;43m+\u001b[39;49m\u001b[43m \u001b[49m\u001b[43mage\u001b[49m)\n",
      "\u001b[1;31mTypeError\u001b[0m: can only concatenate str (not \"int\") to str"
     ]
    }
   ],
   "source": [
    "age = 19\n",
    "print(\"Age: \" + age)"
   ]
  },
  {
   "cell_type": "markdown",
   "metadata": {},
   "source": [
    "Như các bạn có thể thấy, đđể nối được một chuỗi và một số bạn cần phải đưa được số này về dạng chuỗi và thuật ngữ này được gọi là ép kiểu dữ liệu. Trong ngôn ngữ lập trình Python bạn có thể dùng hàm str() để làm việc này"
   ]
  },
  {
   "cell_type": "code",
   "execution_count": 5,
   "metadata": {},
   "outputs": [
    {
     "name": "stdout",
     "output_type": "stream",
     "text": [
      "<class 'str'>\n"
     ]
    }
   ],
   "source": [
    "print(type(str(19)))"
   ]
  },
  {
   "cell_type": "markdown",
   "metadata": {},
   "source": [
    "Ví dụ tiếp về chuyển từ một chuỗi sang một số: "
   ]
  },
  {
   "cell_type": "code",
   "execution_count": 6,
   "metadata": {},
   "outputs": [
    {
     "name": "stdout",
     "output_type": "stream",
     "text": [
      "Age: 19\n"
     ]
    }
   ],
   "source": [
    "age = 19\n",
    "print(\"Age: \" + str(age))"
   ]
  },
  {
   "cell_type": "markdown",
   "metadata": {},
   "source": [
    "- BT2: Bạn hãy viết chương trình tạo ra biến name = \"VLU\", date_of_birth = 1995 và hiển thị kết quả như minh họa:"
   ]
  },
  {
   "cell_type": "code",
   "execution_count": 8,
   "metadata": {},
   "outputs": [
    {
     "name": "stdout",
     "output_type": "stream",
     "text": [
      "Name: VLU\n",
      "Date of birth: 1995\n"
     ]
    }
   ],
   "source": [
    "name = \"VLU\"\n",
    "date_of_birth = 1995\n",
    "print() # Code Here\n",
    "print() # Code Here"
   ]
  },
  {
   "cell_type": "markdown",
   "metadata": {},
   "source": [
    "- BT3: Cho trước biến length = 7.8 và biến width = 3.5, đây là 2 biến chỉ chiều dài và chiều rộng của hình chữ nhật. Bạn hãy viết chương trình hiển thị ra màn hình diện tích và chu vi của hình chữ nhật như ví dụ minh họa. "
   ]
  },
  {
   "cell_type": "code",
   "execution_count": 9,
   "metadata": {},
   "outputs": [
    {
     "name": "stdout",
     "output_type": "stream",
     "text": [
      "Area: 27.3\n",
      "Perimeter: 22.6\n"
     ]
    }
   ],
   "source": [
    "length = 7.8\n",
    "width = 3.5\n",
    "print() # Code Here\n",
    "print() # Code Here"
   ]
  },
  {
   "cell_type": "markdown",
   "metadata": {},
   "source": [
    "### 2.3 Input tại Python\n",
    "\n",
    "Để nhập dữ liệu cho biến từ bàn phím rất đơn giản, bạn sử dụng hàm input() giống như sau: "
   ]
  },
  {
   "cell_type": "code",
   "execution_count": 10,
   "metadata": {},
   "outputs": [
    {
     "name": "stdout",
     "output_type": "stream",
     "text": [
      "Hello Dai\n"
     ]
    }
   ],
   "source": [
    "# Nhập dữ liệu cho biến name từ bàn phím\n",
    "name = input()\n",
    "print(\"Hello \" + name)"
   ]
  },
  {
   "cell_type": "markdown",
   "metadata": {},
   "source": [
    "Bạn cần lưu ý rằng khi nhập dữ liệu cho một biến từ bàn phím thì kiểu dữ liệu của biến đó luôn là str (kể cả bạn có nhập giá trị số cho biến đó). Ví dụ: "
   ]
  },
  {
   "cell_type": "code",
   "execution_count": 12,
   "metadata": {},
   "outputs": [
    {
     "name": "stdout",
     "output_type": "stream",
     "text": [
      "<class 'str'>\n"
     ]
    }
   ],
   "source": [
    "age = input()\n",
    "print(type(age)) # Ở đây mình đã nhập là 20"
   ]
  },
  {
   "cell_type": "markdown",
   "metadata": {},
   "source": [
    "- BT4: Viết chương trình nhập vào tên của mình từ bàn phím và thực hiện hiển thị ra màn hình:  "
   ]
  },
  {
   "cell_type": "code",
   "execution_count": 13,
   "metadata": {},
   "outputs": [
    {
     "name": "stdout",
     "output_type": "stream",
     "text": [
      "Hello Dai\n"
     ]
    }
   ],
   "source": [
    "name = input()\n",
    "print() #Code Here"
   ]
  },
  {
   "cell_type": "markdown",
   "metadata": {},
   "source": [
    "Trong Python, dữ liệu nhập từ bàn phím luôn có kiểu là str (hàm input() trả về kiểu str), mà biến kiểu str thì không thể tính toán được. Do đó bạn cần chuyển kiểu dữ liệu của biến age về kiểu int, để làm việc này bạn cần sử dụng hàm int(). Ví dụ chương trình sau:"
   ]
  },
  {
   "cell_type": "code",
   "execution_count": 14,
   "metadata": {},
   "outputs": [
    {
     "name": "stdout",
     "output_type": "stream",
     "text": [
      "22\n",
      "<class 'int'>\n"
     ]
    }
   ],
   "source": [
    "age = int(input())\n",
    "age = age + 10\n",
    "print(age)\n",
    "print(type(age))"
   ]
  },
  {
   "cell_type": "markdown",
   "metadata": {},
   "source": [
    "Có thể thấy bạn đã chuyển được chuỗi \"23\" về số 23."
   ]
  },
  {
   "cell_type": "markdown",
   "metadata": {},
   "source": [
    "- BT5: viết chương trình nhập vào từ bàn phím tên, tuổi của một người. Sau đó hiển thị như ví dụ: "
   ]
  },
  {
   "cell_type": "code",
   "execution_count": 17,
   "metadata": {},
   "outputs": [
    {
     "name": "stdout",
     "output_type": "stream",
     "text": [
      "In 15 years, age of Dai will be 37\n",
      "In 15 years, age of Dai will be 37\n"
     ]
    }
   ],
   "source": [
    "name = input()\n",
    "age = int(input())\n",
    "print(\"In 15 years, age of \" + name + \" will be \"+ str(age + 15))\n",
    "\n",
    "print(f\"In 15 years, age of {name} will be {age + 15}\")"
   ]
  },
  {
   "cell_type": "markdown",
   "metadata": {},
   "source": [
    "### Bài tập tổng kết"
   ]
  },
  {
   "cell_type": "code",
   "execution_count": null,
   "metadata": {},
   "outputs": [],
   "source": [
    "# 1. Nhập và in tên người dùng \n",
    "# Code Here"
   ]
  },
  {
   "cell_type": "code",
   "execution_count": null,
   "metadata": {},
   "outputs": [],
   "source": [
    "# 2. Tính tổng hai số\n",
    "# Code Here"
   ]
  },
  {
   "cell_type": "code",
   "execution_count": null,
   "metadata": {},
   "outputs": [],
   "source": [
    "# 3. Tính chu vi Hình Chữ \n",
    "# Code Here"
   ]
  },
  {
   "cell_type": "code",
   "execution_count": null,
   "metadata": {},
   "outputs": [],
   "source": [
    "# 4. Tính Diện tích Tam Giác\n",
    "# Code Here"
   ]
  },
  {
   "cell_type": "code",
   "execution_count": null,
   "metadata": {},
   "outputs": [],
   "source": [
    "# 5. Tính 2 mũ 5\n",
    "# Code Here"
   ]
  },
  {
   "cell_type": "markdown",
   "metadata": {},
   "source": [
    "### Nhẹ nhàng"
   ]
  },
  {
   "cell_type": "code",
   "execution_count": null,
   "metadata": {},
   "outputs": [],
   "source": [
    "# 6. Kiểm tra số chẵn lẻ"
   ]
  },
  {
   "cell_type": "code",
   "execution_count": null,
   "metadata": {},
   "outputs": [],
   "source": [
    "# 7. Xếp loại học sinh (Giỏi, khá, TB, yếu)"
   ]
  },
  {
   "cell_type": "code",
   "execution_count": null,
   "metadata": {},
   "outputs": [],
   "source": [
    "# 8. Tính phương trình bậc 2"
   ]
  },
  {
   "cell_type": "code",
   "execution_count": null,
   "metadata": {},
   "outputs": [],
   "source": [
    "# 9. Đổi độ C sang độ F"
   ]
  },
  {
   "cell_type": "code",
   "execution_count": null,
   "metadata": {},
   "outputs": [],
   "source": [
    "# 10. Kiểm tra V trong kí tự \"VanLang\" và trả về True False"
   ]
  },
  {
   "cell_type": "markdown",
   "metadata": {},
   "source": [
    "### Vòng lặp và tương tác với List"
   ]
  },
  {
   "cell_type": "code",
   "execution_count": null,
   "metadata": {},
   "outputs": [],
   "source": [
    "# 11. In số từ 1 đến n"
   ]
  },
  {
   "cell_type": "code",
   "execution_count": null,
   "metadata": {},
   "outputs": [],
   "source": [
    "# 12. Tính tổng các số từ 1 đến n"
   ]
  },
  {
   "cell_type": "code",
   "execution_count": null,
   "metadata": {},
   "outputs": [],
   "source": [
    "# 13. Cho trước 3 số nguyên x, y, z được từ bàn phím. Viết chương trình hiển thị ra màn hình theo yêu cầu sau:\n",
    "'''Nếu x là số chẵn, kiểm tra xem y có lớn hơn hoặc bằng 20 hay không. \n",
    "Nếu y >= 20, in ra dòng chữ y is greater than or equal to 20; ngược lại, in ra dòng chữ y is less than 20.\n",
    "Nếu x là số lẻ, kiểm tra xem z có lớn hơn hoặc bằng 30 hay không. \n",
    "Nếu z >= 30, in ra dòng chữ z is greater than or equal to 30; ngược lại, in ra dòng chữ z is less than 30.'''"
   ]
  },
  {
   "cell_type": "code",
   "execution_count": null,
   "metadata": {},
   "outputs": [],
   "source": [
    "# 14. Tạo và thao tác với list: thêm, xóa list có sẵn"
   ]
  },
  {
   "cell_type": "code",
   "execution_count": null,
   "metadata": {},
   "outputs": [],
   "source": [
    "# 15. Tìm số lớn nhất và nhỏ nhất trong list"
   ]
  },
  {
   "cell_type": "markdown",
   "metadata": {},
   "source": [
    "### Tính toán theo hàm"
   ]
  },
  {
   "cell_type": "code",
   "execution_count": null,
   "metadata": {},
   "outputs": [],
   "source": [
    "# 16. Viết hàm tính giai thừa"
   ]
  },
  {
   "cell_type": "code",
   "execution_count": null,
   "metadata": {},
   "outputs": [],
   "source": [
    "# 17. Viết hàm kiểm tra số nguyên tố"
   ]
  },
  {
   "cell_type": "code",
   "execution_count": null,
   "metadata": {},
   "outputs": [],
   "source": [
    "# 18. Viết hàm kiểm tra số chính phương"
   ]
  },
  {
   "cell_type": "code",
   "execution_count": null,
   "metadata": {},
   "outputs": [],
   "source": [
    "# 19. Viết hàm tính phương trình bậc 3"
   ]
  },
  {
   "cell_type": "code",
   "execution_count": null,
   "metadata": {},
   "outputs": [],
   "source": [
    "# 20. Viết hàm tính định lý Pytago"
   ]
  },
  {
   "cell_type": "markdown",
   "metadata": {},
   "source": [
    "### Xử lý chuỗi - đọc ghi file"
   ]
  },
  {
   "cell_type": "code",
   "execution_count": null,
   "metadata": {},
   "outputs": [],
   "source": [
    "# 21. Đếm số lượng từ xuất hiện trong câu"
   ]
  },
  {
   "cell_type": "code",
   "execution_count": null,
   "metadata": {},
   "outputs": [],
   "source": [
    "# 22. Đảo ngược chuỗi đã cho"
   ]
  },
  {
   "cell_type": "code",
   "execution_count": null,
   "metadata": {},
   "outputs": [],
   "source": [
    "# 23. Ghi và đọc file văn bản"
   ]
  },
  {
   "cell_type": "code",
   "execution_count": null,
   "metadata": {},
   "outputs": [],
   "source": [
    "# 24. Ghi và đọc file văn bản nhưng dùng thêm Try - Except"
   ]
  },
  {
   "cell_type": "code",
   "execution_count": null,
   "metadata": {},
   "outputs": [],
   "source": [
    "# 25. Đọc file và đếm số từ"
   ]
  }
 ],
 "metadata": {
  "kernelspec": {
   "display_name": "Python 3",
   "language": "python",
   "name": "python3"
  },
  "language_info": {
   "codemirror_mode": {
    "name": "ipython",
    "version": 3
   },
   "file_extension": ".py",
   "mimetype": "text/x-python",
   "name": "python",
   "nbconvert_exporter": "python",
   "pygments_lexer": "ipython3",
   "version": "3.10.11"
  }
 },
 "nbformat": 4,
 "nbformat_minor": 2
}
